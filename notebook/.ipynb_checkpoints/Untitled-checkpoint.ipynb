{
 "cells": [
  {
   "cell_type": "markdown",
   "id": "f29e4edc",
   "metadata": {},
   "source": [
    "## ライブラリ"
   ]
  },
  {
   "cell_type": "code",
   "execution_count": 3,
   "id": "0f55be13",
   "metadata": {},
   "outputs": [],
   "source": [
    "import pandas as pd\n",
    "import numpy as np\n",
    "import os\n",
    "import gc\n",
    "import matplotlib.pyplot as plt\n",
    "import seaborn as sns\n",
    "%matplotlib inline\n",
    "\n",
    "import sseclient"
   ]
  },
  {
   "cell_type": "markdown",
   "id": "ac5c7bfe",
   "metadata": {},
   "source": [
    "## 接続確認"
   ]
  },
  {
   "cell_type": "code",
   "execution_count": null,
   "id": "931d6a05",
   "metadata": {},
   "outputs": [],
   "source": [
    "client = sseclient.SSEClient('http://localhost:8787/sse')"
   ]
  },
  {
   "cell_type": "code",
   "execution_count": null,
   "id": "b45d9704",
   "metadata": {},
   "outputs": [],
   "source": [
    "for response in client.__iter__():\n",
    "    print(response)"
   ]
  }
 ],
 "metadata": {
  "kernelspec": {
   "display_name": "Python 3.9.6(venv: dev)",
   "language": "python",
   "name": "python3"
  },
  "language_info": {
   "codemirror_mode": {
    "name": "ipython",
    "version": 3
   },
   "file_extension": ".py",
   "mimetype": "text/x-python",
   "name": "python",
   "nbconvert_exporter": "python",
   "pygments_lexer": "ipython3",
   "version": "3.8.10"
  }
 },
 "nbformat": 4,
 "nbformat_minor": 5
}
